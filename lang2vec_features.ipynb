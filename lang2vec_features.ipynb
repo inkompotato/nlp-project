{
 "cells": [
  {
   "cell_type": "code",
   "execution_count": 14,
   "metadata": {},
   "outputs": [],
   "source": [
    "import lang2vec.lang2vec as l2v\n",
    "import pandas as pd\n",
    "import numpy as np\n",
    "from sklearn.metrics.pairwise import cosine_similarity"
   ]
  },
  {
   "cell_type": "code",
   "execution_count": 24,
   "metadata": {},
   "outputs": [],
   "source": [
    "df = pd.DataFrame(columns=[\"lang1\", \"lang2\"], data=[[\"deu\", \"nld\"], [\"deu\", \"dan\"], \n",
    "                                                    [\"deu\", \"swe\"], [\"nld\", \"dan\"],\n",
    "                                                    [\"nld\", \"swe\"], [\"dan\", \"swe\"]])\n",
    "\n",
    "\n",
    "for row, col in df.iterrows():\n",
    "\n",
    "    lang1 = col[\"lang1\"]\n",
    "    lang2 = col[\"lang2\"]\n",
    "\n",
    "    df.loc[row, \"SYN\"] = 1 - l2v.syntactic_distance(lang1, lang2)\n",
    "    df.loc[row, \"PHON\"] = 1 - l2v.phonological_distance(lang1, lang2)\n",
    "    df.loc[row, \"INV\"] = 1 - l2v.inventory_distance(lang1, lang2)\n",
    "\n",
    "    fam1 = np.array(l2v.get_features(lang1, \"fam\")[lang1])\n",
    "    fam2 = np.array(l2v.get_features(lang2, \"fam\")[lang2])\n",
    "    df.loc[row, \"FAM\"] = cosine_similarity([fam1], [fam2])[0][0]\n",
    "\n",
    "\n",
    "df = df.round(2)"
   ]
  },
  {
   "cell_type": "code",
   "execution_count": 25,
   "metadata": {},
   "outputs": [
    {
     "data": {
      "text/html": [
       "<div>\n",
       "<style scoped>\n",
       "    .dataframe tbody tr th:only-of-type {\n",
       "        vertical-align: middle;\n",
       "    }\n",
       "\n",
       "    .dataframe tbody tr th {\n",
       "        vertical-align: top;\n",
       "    }\n",
       "\n",
       "    .dataframe thead th {\n",
       "        text-align: right;\n",
       "    }\n",
       "</style>\n",
       "<table border=\"1\" class=\"dataframe\">\n",
       "  <thead>\n",
       "    <tr style=\"text-align: right;\">\n",
       "      <th></th>\n",
       "      <th>lang1</th>\n",
       "      <th>lang2</th>\n",
       "      <th>SYN</th>\n",
       "      <th>PHON</th>\n",
       "      <th>INV</th>\n",
       "      <th>FAM</th>\n",
       "    </tr>\n",
       "  </thead>\n",
       "  <tbody>\n",
       "    <tr>\n",
       "      <th>0</th>\n",
       "      <td>deu</td>\n",
       "      <td>nld</td>\n",
       "      <td>0.65</td>\n",
       "      <td>0.45</td>\n",
       "      <td>0.69</td>\n",
       "      <td>0.68</td>\n",
       "    </tr>\n",
       "    <tr>\n",
       "      <th>1</th>\n",
       "      <td>deu</td>\n",
       "      <td>dan</td>\n",
       "      <td>0.51</td>\n",
       "      <td>0.45</td>\n",
       "      <td>0.38</td>\n",
       "      <td>0.50</td>\n",
       "    </tr>\n",
       "    <tr>\n",
       "      <th>2</th>\n",
       "      <td>deu</td>\n",
       "      <td>swe</td>\n",
       "      <td>0.57</td>\n",
       "      <td>0.45</td>\n",
       "      <td>0.57</td>\n",
       "      <td>0.50</td>\n",
       "    </tr>\n",
       "    <tr>\n",
       "      <th>3</th>\n",
       "      <td>nld</td>\n",
       "      <td>dan</td>\n",
       "      <td>0.53</td>\n",
       "      <td>1.00</td>\n",
       "      <td>0.39</td>\n",
       "      <td>0.41</td>\n",
       "    </tr>\n",
       "    <tr>\n",
       "      <th>4</th>\n",
       "      <td>nld</td>\n",
       "      <td>swe</td>\n",
       "      <td>0.64</td>\n",
       "      <td>1.00</td>\n",
       "      <td>0.54</td>\n",
       "      <td>0.41</td>\n",
       "    </tr>\n",
       "    <tr>\n",
       "      <th>5</th>\n",
       "      <td>dan</td>\n",
       "      <td>swe</td>\n",
       "      <td>0.67</td>\n",
       "      <td>1.00</td>\n",
       "      <td>0.38</td>\n",
       "      <td>0.83</td>\n",
       "    </tr>\n",
       "  </tbody>\n",
       "</table>\n",
       "</div>"
      ],
      "text/plain": [
       "  lang1 lang2   SYN  PHON   INV   FAM\n",
       "0   deu   nld  0.65  0.45  0.69  0.68\n",
       "1   deu   dan  0.51  0.45  0.38  0.50\n",
       "2   deu   swe  0.57  0.45  0.57  0.50\n",
       "3   nld   dan  0.53  1.00  0.39  0.41\n",
       "4   nld   swe  0.64  1.00  0.54  0.41\n",
       "5   dan   swe  0.67  1.00  0.38  0.83"
      ]
     },
     "execution_count": 25,
     "metadata": {},
     "output_type": "execute_result"
    }
   ],
   "source": [
    "df"
   ]
  }
 ],
 "metadata": {
  "kernelspec": {
   "display_name": "Python 3.10.8 ('nlp')",
   "language": "python",
   "name": "python3"
  },
  "language_info": {
   "codemirror_mode": {
    "name": "ipython",
    "version": 3
   },
   "file_extension": ".py",
   "mimetype": "text/x-python",
   "name": "python",
   "nbconvert_exporter": "python",
   "pygments_lexer": "ipython3",
   "version": "3.10.8"
  },
  "orig_nbformat": 4,
  "vscode": {
   "interpreter": {
    "hash": "6d05ee091f5370a7b0bb54a2d72fa7570dd995cb26d20a78d86be65f08608325"
   }
  }
 },
 "nbformat": 4,
 "nbformat_minor": 2
}
